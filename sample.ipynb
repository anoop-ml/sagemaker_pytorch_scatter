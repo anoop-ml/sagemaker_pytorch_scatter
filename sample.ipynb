{
 "cells": [
  {
   "cell_type": "raw",
   "id": "76c4e92e",
   "metadata": {},
   "source": [
    "# SageMaker training example to bootstrap [PyTorch Scatter](https://github.com/rusty1s/pytorch_scatter)"
   ]
  },
  {
   "cell_type": "code",
   "execution_count": null,
   "id": "185db0ed",
   "metadata": {},
   "outputs": [],
   "source": [
    "from sagemaker import get_execution_role\n",
    "from sagemaker.pytorch import PyTorch\n",
    "import os"
   ]
  },
  {
   "cell_type": "code",
   "execution_count": null,
   "id": "193e9048",
   "metadata": {},
   "outputs": [],
   "source": [
    "REGION=!(aws configure get region)\n",
    "account = !aws sts get-caller-identity --query Account --output text\n",
    "ecr_image = '{}.dkr.ecr.{}.amazonaws.com/sagemker-pytorch-scatter:sagemaker-training-pytorch-scatter-1.10-gpu-py38'.format(account[0], REGION[0])"
   ]
  },
  {
   "cell_type": "code",
   "execution_count": null,
   "id": "27f10bcc",
   "metadata": {},
   "outputs": [],
   "source": [
    "instance_type = \"ml.p3.2xlarge\"\n",
    "instance_count = 1\n",
    "base_job_name = f'sagemaker-pytorch-scatter-sample'\n",
    "\n",
    "estimator = PyTorch(\n",
    "    image_uri=ecr_image,\n",
    "    entry_point=\"train.py\",\n",
    "    source_dir=os.getcwd(),\n",
    "    instance_type=instance_type,\n",
    "    role=get_execution_role(),\n",
    "    instance_count=instance_count,\n",
    "    base_job_name=base_job_name)\n",
    "\n",
    "estimator.fit()"
   ]
  },
  {
   "cell_type": "code",
   "execution_count": null,
   "id": "d2c4ea25",
   "metadata": {},
   "outputs": [],
   "source": []
  }
 ],
 "metadata": {
  "kernelspec": {
   "display_name": "conda_pytorch_p36",
   "language": "python",
   "name": "conda_pytorch_p36"
  },
  "language_info": {
   "codemirror_mode": {
    "name": "ipython",
    "version": 3
   },
   "file_extension": ".py",
   "mimetype": "text/x-python",
   "name": "python",
   "nbconvert_exporter": "python",
   "pygments_lexer": "ipython3",
   "version": "3.6.13"
  }
 },
 "nbformat": 4,
 "nbformat_minor": 5
}
